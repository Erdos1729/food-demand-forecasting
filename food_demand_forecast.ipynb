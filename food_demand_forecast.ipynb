{
 "cells": [
  {
   "cell_type": "code",
   "execution_count": 1,
   "metadata": {
    "colab": {},
    "colab_type": "code",
    "id": "3-7qi9TkyHut"
   },
   "outputs": [],
   "source": [
    "#importing libraries\n",
    "import pandas as pd\n",
    "import numpy as np\n",
    "# !pip install seaborn\n",
    "import seaborn as sns\n",
    "import matplotlib.pyplot as plt\n",
    "from sklearn.model_selection import train_test_split, GridSearchCV\n",
    "from sklearn.preprocessing import LabelEncoder"
   ]
  },
  {
   "cell_type": "code",
   "execution_count": 2,
   "metadata": {
    "colab": {},
    "colab_type": "code",
    "id": "pbNTxRwSy5I9"
   },
   "outputs": [],
   "source": [
    "test_file=pd.read_csv('datasets/test_file.csv')\n",
    "train_file=pd.read_csv('datasets/train_file.csv')\n",
    "meal_file=pd.read_csv('datasets/meal_info.csv')\n",
    "fullfilment_file=pd.read_csv('datasets/fulfilment_center_info.csv')\n"
   ]
  },
  {
   "cell_type": "code",
   "execution_count": 3,
   "metadata": {
    "colab": {
     "base_uri": "https://localhost:8080/",
     "height": 221
    },
    "colab_type": "code",
    "executionInfo": {
     "elapsed": 1861,
     "status": "ok",
     "timestamp": 1592037395513,
     "user": {
      "displayName": "amit",
      "photoUrl": "",
      "userId": "12797285159599571225"
     },
     "user_tz": -345
    },
    "id": "-VrpKruCy5Sm",
    "outputId": "4e904fb7-e086-4300-e958-5fcdcddc278a"
   },
   "outputs": [
    {
     "name": "stdout",
     "output_type": "stream",
     "text": [
      "        id  week  center_id  meal_id  checkout_price  base_price  \\\n",
      "0  1028232   146         55     1885          158.11      159.11   \n",
      "1  1127204   146         55     1993          160.11      159.11   \n",
      "2  1212707   146         55     2539          157.14      159.14   \n",
      "3  1082698   146         55     2631          162.02      162.02   \n",
      "4  1400926   146         55     1248          163.93      163.93   \n",
      "\n",
      "   emailer_for_promotion  homepage_featured  \n",
      "0                      0                  0  \n",
      "1                      0                  0  \n",
      "2                      0                  0  \n",
      "3                      0                  0  \n",
      "4                      0                  0  \n"
     ]
    }
   ],
   "source": [
    "df=test_file.copy()\n",
    "print(df.head())"
   ]
  },
  {
   "cell_type": "code",
   "execution_count": 4,
   "metadata": {
    "colab": {},
    "colab_type": "code",
    "id": "SejBO10Sy5VR"
   },
   "outputs": [],
   "source": [
    "df.rename(columns={\"id,week,center_id,meal_id,checkout_price,base_price,emailer_for_promotion,homepage_featured\":\"new\"},inplace=True)\n"
   ]
  },
  {
   "cell_type": "code",
   "execution_count": 5,
   "metadata": {
    "colab": {},
    "colab_type": "code",
    "id": "cuI3g_Ady5X9"
   },
   "outputs": [],
   "source": [
    "# df['id']=df.new.str.split(',').str[0]\n",
    "# df['week']=df.new.str.split(',').str[1]\n",
    "# df['center_id']=df.new.str.split(',').str[2]\n",
    "# df['meal_id']=df.new.str.split(',').str[3]\n",
    "# df['checkout_price']=df.new.str.split(',').str[4]\n",
    "# df['base_price']=df.new.str.split(',').str[5]\n",
    "# df['emailer_for_promotion']=df.new.str.split(',').str[6]\n",
    "# df['homepage_featured']=df.new.str.split(',').str[7]\n",
    "# df=df.iloc[:,1:]\n"
   ]
  },
  {
   "cell_type": "code",
   "execution_count": 6,
   "metadata": {
    "colab": {
     "base_uri": "https://localhost:8080/",
     "height": 221
    },
    "colab_type": "code",
    "executionInfo": {
     "elapsed": 1445,
     "status": "ok",
     "timestamp": 1592037430960,
     "user": {
      "displayName": "amit",
      "photoUrl": "",
      "userId": "12797285159599571225"
     },
     "user_tz": -345
    },
    "id": "GszGGnBtzmfh",
    "outputId": "63ef1f8b-4380-43f8-a33f-55859778ea6a"
   },
   "outputs": [
    {
     "data": {
      "text/html": [
       "<div>\n",
       "<style scoped>\n",
       "    .dataframe tbody tr th:only-of-type {\n",
       "        vertical-align: middle;\n",
       "    }\n",
       "\n",
       "    .dataframe tbody tr th {\n",
       "        vertical-align: top;\n",
       "    }\n",
       "\n",
       "    .dataframe thead th {\n",
       "        text-align: right;\n",
       "    }\n",
       "</style>\n",
       "<table border=\"1\" class=\"dataframe\">\n",
       "  <thead>\n",
       "    <tr style=\"text-align: right;\">\n",
       "      <th></th>\n",
       "      <th>id</th>\n",
       "      <th>week</th>\n",
       "      <th>center_id</th>\n",
       "      <th>meal_id</th>\n",
       "      <th>checkout_price</th>\n",
       "      <th>base_price</th>\n",
       "      <th>emailer_for_promotion</th>\n",
       "      <th>homepage_featured</th>\n",
       "    </tr>\n",
       "  </thead>\n",
       "  <tbody>\n",
       "    <tr>\n",
       "      <th>0</th>\n",
       "      <td>1028232</td>\n",
       "      <td>146</td>\n",
       "      <td>55</td>\n",
       "      <td>1885</td>\n",
       "      <td>158.11</td>\n",
       "      <td>159.11</td>\n",
       "      <td>0</td>\n",
       "      <td>0</td>\n",
       "    </tr>\n",
       "    <tr>\n",
       "      <th>1</th>\n",
       "      <td>1127204</td>\n",
       "      <td>146</td>\n",
       "      <td>55</td>\n",
       "      <td>1993</td>\n",
       "      <td>160.11</td>\n",
       "      <td>159.11</td>\n",
       "      <td>0</td>\n",
       "      <td>0</td>\n",
       "    </tr>\n",
       "    <tr>\n",
       "      <th>2</th>\n",
       "      <td>1212707</td>\n",
       "      <td>146</td>\n",
       "      <td>55</td>\n",
       "      <td>2539</td>\n",
       "      <td>157.14</td>\n",
       "      <td>159.14</td>\n",
       "      <td>0</td>\n",
       "      <td>0</td>\n",
       "    </tr>\n",
       "    <tr>\n",
       "      <th>3</th>\n",
       "      <td>1082698</td>\n",
       "      <td>146</td>\n",
       "      <td>55</td>\n",
       "      <td>2631</td>\n",
       "      <td>162.02</td>\n",
       "      <td>162.02</td>\n",
       "      <td>0</td>\n",
       "      <td>0</td>\n",
       "    </tr>\n",
       "    <tr>\n",
       "      <th>4</th>\n",
       "      <td>1400926</td>\n",
       "      <td>146</td>\n",
       "      <td>55</td>\n",
       "      <td>1248</td>\n",
       "      <td>163.93</td>\n",
       "      <td>163.93</td>\n",
       "      <td>0</td>\n",
       "      <td>0</td>\n",
       "    </tr>\n",
       "  </tbody>\n",
       "</table>\n",
       "</div>"
      ],
      "text/plain": [
       "        id  week  center_id  meal_id  checkout_price  base_price  \\\n",
       "0  1028232   146         55     1885          158.11      159.11   \n",
       "1  1127204   146         55     1993          160.11      159.11   \n",
       "2  1212707   146         55     2539          157.14      159.14   \n",
       "3  1082698   146         55     2631          162.02      162.02   \n",
       "4  1400926   146         55     1248          163.93      163.93   \n",
       "\n",
       "   emailer_for_promotion  homepage_featured  \n",
       "0                      0                  0  \n",
       "1                      0                  0  \n",
       "2                      0                  0  \n",
       "3                      0                  0  \n",
       "4                      0                  0  "
      ]
     },
     "execution_count": 6,
     "metadata": {},
     "output_type": "execute_result"
    }
   ],
   "source": [
    "df['id']=df['id'].astype('int')\n",
    "df['week']=df['week'].astype('int')\n",
    "df['center_id']=df['center_id'].astype('int')\n",
    "df['meal_id']=df['meal_id'].astype('int')\n",
    "df['checkout_price']=df['checkout_price'].astype('float')\n",
    "df['base_price']=df['base_price'].astype('float')\n",
    "\n",
    "df['emailer_for_promotion']=df['emailer_for_promotion'].astype('int')\n",
    "df['homepage_featured']=df['homepage_featured'].astype('int')\n",
    "df.head()"
   ]
  },
  {
   "cell_type": "code",
   "execution_count": 7,
   "metadata": {
    "colab": {},
    "colab_type": "code",
    "id": "CMbujIgszqiw"
   },
   "outputs": [],
   "source": [
    "train_df = pd.merge(train_file,fullfilment_file, on='center_id')\n",
    "test_df= pd.merge(df,fullfilment_file, on='center_id')\n"
   ]
  },
  {
   "cell_type": "code",
   "execution_count": 8,
   "metadata": {
    "colab": {},
    "colab_type": "code",
    "id": "2jqM_WELzqlh"
   },
   "outputs": [],
   "source": [
    "train_df = pd.merge(train_df,meal_file, on='meal_id')\n",
    "test_df = pd.merge(test_df,meal_file, on='meal_id')"
   ]
  },
  {
   "cell_type": "code",
   "execution_count": 9,
   "metadata": {
    "colab": {
     "base_uri": "https://localhost:8080/",
     "height": 221
    },
    "colab_type": "code",
    "executionInfo": {
     "elapsed": 1341,
     "status": "ok",
     "timestamp": 1592037498784,
     "user": {
      "displayName": "amit",
      "photoUrl": "",
      "userId": "12797285159599571225"
     },
     "user_tz": -345
    },
    "id": "5GtcsSEizqoH",
    "outputId": "1a9b9850-912a-453f-f811-2bcf6a1d7d8f"
   },
   "outputs": [
    {
     "data": {
      "text/html": [
       "<div>\n",
       "<style scoped>\n",
       "    .dataframe tbody tr th:only-of-type {\n",
       "        vertical-align: middle;\n",
       "    }\n",
       "\n",
       "    .dataframe tbody tr th {\n",
       "        vertical-align: top;\n",
       "    }\n",
       "\n",
       "    .dataframe thead th {\n",
       "        text-align: right;\n",
       "    }\n",
       "</style>\n",
       "<table border=\"1\" class=\"dataframe\">\n",
       "  <thead>\n",
       "    <tr style=\"text-align: right;\">\n",
       "      <th></th>\n",
       "      <th>id</th>\n",
       "      <th>week</th>\n",
       "      <th>center_id</th>\n",
       "      <th>meal_id</th>\n",
       "      <th>checkout_price</th>\n",
       "      <th>base_price</th>\n",
       "      <th>emailer_for_promotion</th>\n",
       "      <th>homepage_featured</th>\n",
       "      <th>city_code</th>\n",
       "      <th>region_code</th>\n",
       "      <th>center_type</th>\n",
       "      <th>op_area</th>\n",
       "      <th>category</th>\n",
       "      <th>cuisine</th>\n",
       "    </tr>\n",
       "  </thead>\n",
       "  <tbody>\n",
       "    <tr>\n",
       "      <th>0</th>\n",
       "      <td>1028232</td>\n",
       "      <td>146</td>\n",
       "      <td>55</td>\n",
       "      <td>1885</td>\n",
       "      <td>158.11</td>\n",
       "      <td>159.11</td>\n",
       "      <td>0</td>\n",
       "      <td>0</td>\n",
       "      <td>647</td>\n",
       "      <td>56</td>\n",
       "      <td>TYPE_C</td>\n",
       "      <td>2.0</td>\n",
       "      <td>Beverages</td>\n",
       "      <td>Thai</td>\n",
       "    </tr>\n",
       "    <tr>\n",
       "      <th>1</th>\n",
       "      <td>1262649</td>\n",
       "      <td>147</td>\n",
       "      <td>55</td>\n",
       "      <td>1885</td>\n",
       "      <td>159.11</td>\n",
       "      <td>159.11</td>\n",
       "      <td>0</td>\n",
       "      <td>0</td>\n",
       "      <td>647</td>\n",
       "      <td>56</td>\n",
       "      <td>TYPE_C</td>\n",
       "      <td>2.0</td>\n",
       "      <td>Beverages</td>\n",
       "      <td>Thai</td>\n",
       "    </tr>\n",
       "    <tr>\n",
       "      <th>2</th>\n",
       "      <td>1453211</td>\n",
       "      <td>149</td>\n",
       "      <td>55</td>\n",
       "      <td>1885</td>\n",
       "      <td>157.14</td>\n",
       "      <td>158.14</td>\n",
       "      <td>0</td>\n",
       "      <td>0</td>\n",
       "      <td>647</td>\n",
       "      <td>56</td>\n",
       "      <td>TYPE_C</td>\n",
       "      <td>2.0</td>\n",
       "      <td>Beverages</td>\n",
       "      <td>Thai</td>\n",
       "    </tr>\n",
       "    <tr>\n",
       "      <th>3</th>\n",
       "      <td>1262599</td>\n",
       "      <td>150</td>\n",
       "      <td>55</td>\n",
       "      <td>1885</td>\n",
       "      <td>159.14</td>\n",
       "      <td>157.14</td>\n",
       "      <td>0</td>\n",
       "      <td>0</td>\n",
       "      <td>647</td>\n",
       "      <td>56</td>\n",
       "      <td>TYPE_C</td>\n",
       "      <td>2.0</td>\n",
       "      <td>Beverages</td>\n",
       "      <td>Thai</td>\n",
       "    </tr>\n",
       "    <tr>\n",
       "      <th>4</th>\n",
       "      <td>1495848</td>\n",
       "      <td>151</td>\n",
       "      <td>55</td>\n",
       "      <td>1885</td>\n",
       "      <td>160.11</td>\n",
       "      <td>159.11</td>\n",
       "      <td>0</td>\n",
       "      <td>0</td>\n",
       "      <td>647</td>\n",
       "      <td>56</td>\n",
       "      <td>TYPE_C</td>\n",
       "      <td>2.0</td>\n",
       "      <td>Beverages</td>\n",
       "      <td>Thai</td>\n",
       "    </tr>\n",
       "  </tbody>\n",
       "</table>\n",
       "</div>"
      ],
      "text/plain": [
       "        id  week  center_id  meal_id  checkout_price  base_price  \\\n",
       "0  1028232   146         55     1885          158.11      159.11   \n",
       "1  1262649   147         55     1885          159.11      159.11   \n",
       "2  1453211   149         55     1885          157.14      158.14   \n",
       "3  1262599   150         55     1885          159.14      157.14   \n",
       "4  1495848   151         55     1885          160.11      159.11   \n",
       "\n",
       "   emailer_for_promotion  homepage_featured  city_code  region_code  \\\n",
       "0                      0                  0        647           56   \n",
       "1                      0                  0        647           56   \n",
       "2                      0                  0        647           56   \n",
       "3                      0                  0        647           56   \n",
       "4                      0                  0        647           56   \n",
       "\n",
       "  center_type  op_area   category cuisine  \n",
       "0      TYPE_C      2.0  Beverages    Thai  \n",
       "1      TYPE_C      2.0  Beverages    Thai  \n",
       "2      TYPE_C      2.0  Beverages    Thai  \n",
       "3      TYPE_C      2.0  Beverages    Thai  \n",
       "4      TYPE_C      2.0  Beverages    Thai  "
      ]
     },
     "execution_count": 9,
     "metadata": {},
     "output_type": "execute_result"
    }
   ],
   "source": [
    "train_df.tail()\n",
    "test_df.head()"
   ]
  },
  {
   "cell_type": "code",
   "execution_count": 10,
   "metadata": {
    "colab": {},
    "colab_type": "code",
    "id": "KWx2iaeO81ok"
   },
   "outputs": [],
   "source": [
    "encoder=LabelEncoder()\n",
    "encoder2=LabelEncoder()\n",
    "encoder3=LabelEncoder()"
   ]
  },
  {
   "cell_type": "code",
   "execution_count": 11,
   "metadata": {
    "colab": {
     "base_uri": "https://localhost:8080/",
     "height": 221
    },
    "colab_type": "code",
    "executionInfo": {
     "elapsed": 1391,
     "status": "ok",
     "timestamp": 1592039657005,
     "user": {
      "displayName": "amit",
      "photoUrl": "",
      "userId": "12797285159599571225"
     },
     "user_tz": -345
    },
    "id": "ucjkjwrZ87X5",
    "outputId": "3be77553-4e9e-4ec0-fea1-8c9e3d3d1b46"
   },
   "outputs": [
    {
     "data": {
      "text/html": [
       "<div>\n",
       "<style scoped>\n",
       "    .dataframe tbody tr th:only-of-type {\n",
       "        vertical-align: middle;\n",
       "    }\n",
       "\n",
       "    .dataframe tbody tr th {\n",
       "        vertical-align: top;\n",
       "    }\n",
       "\n",
       "    .dataframe thead th {\n",
       "        text-align: right;\n",
       "    }\n",
       "</style>\n",
       "<table border=\"1\" class=\"dataframe\">\n",
       "  <thead>\n",
       "    <tr style=\"text-align: right;\">\n",
       "      <th></th>\n",
       "      <th>id</th>\n",
       "      <th>week</th>\n",
       "      <th>center_id</th>\n",
       "      <th>meal_id</th>\n",
       "      <th>checkout_price</th>\n",
       "      <th>base_price</th>\n",
       "      <th>emailer_for_promotion</th>\n",
       "      <th>homepage_featured</th>\n",
       "      <th>num_orders</th>\n",
       "      <th>city_code</th>\n",
       "      <th>region_code</th>\n",
       "      <th>center_type</th>\n",
       "      <th>op_area</th>\n",
       "      <th>category</th>\n",
       "      <th>cuisine</th>\n",
       "    </tr>\n",
       "  </thead>\n",
       "  <tbody>\n",
       "    <tr>\n",
       "      <th>0</th>\n",
       "      <td>1379560</td>\n",
       "      <td>1</td>\n",
       "      <td>55</td>\n",
       "      <td>1885</td>\n",
       "      <td>136.83</td>\n",
       "      <td>152.29</td>\n",
       "      <td>0</td>\n",
       "      <td>0</td>\n",
       "      <td>177</td>\n",
       "      <td>647</td>\n",
       "      <td>56</td>\n",
       "      <td>TYPE_C</td>\n",
       "      <td>2.0</td>\n",
       "      <td>Beverages</td>\n",
       "      <td>Thai</td>\n",
       "    </tr>\n",
       "    <tr>\n",
       "      <th>1</th>\n",
       "      <td>1018704</td>\n",
       "      <td>2</td>\n",
       "      <td>55</td>\n",
       "      <td>1885</td>\n",
       "      <td>135.83</td>\n",
       "      <td>152.29</td>\n",
       "      <td>0</td>\n",
       "      <td>0</td>\n",
       "      <td>323</td>\n",
       "      <td>647</td>\n",
       "      <td>56</td>\n",
       "      <td>TYPE_C</td>\n",
       "      <td>2.0</td>\n",
       "      <td>Beverages</td>\n",
       "      <td>Thai</td>\n",
       "    </tr>\n",
       "    <tr>\n",
       "      <th>2</th>\n",
       "      <td>1196273</td>\n",
       "      <td>3</td>\n",
       "      <td>55</td>\n",
       "      <td>1885</td>\n",
       "      <td>132.92</td>\n",
       "      <td>133.92</td>\n",
       "      <td>0</td>\n",
       "      <td>0</td>\n",
       "      <td>96</td>\n",
       "      <td>647</td>\n",
       "      <td>56</td>\n",
       "      <td>TYPE_C</td>\n",
       "      <td>2.0</td>\n",
       "      <td>Beverages</td>\n",
       "      <td>Thai</td>\n",
       "    </tr>\n",
       "    <tr>\n",
       "      <th>3</th>\n",
       "      <td>1116527</td>\n",
       "      <td>4</td>\n",
       "      <td>55</td>\n",
       "      <td>1885</td>\n",
       "      <td>135.86</td>\n",
       "      <td>134.86</td>\n",
       "      <td>0</td>\n",
       "      <td>0</td>\n",
       "      <td>163</td>\n",
       "      <td>647</td>\n",
       "      <td>56</td>\n",
       "      <td>TYPE_C</td>\n",
       "      <td>2.0</td>\n",
       "      <td>Beverages</td>\n",
       "      <td>Thai</td>\n",
       "    </tr>\n",
       "    <tr>\n",
       "      <th>4</th>\n",
       "      <td>1343872</td>\n",
       "      <td>5</td>\n",
       "      <td>55</td>\n",
       "      <td>1885</td>\n",
       "      <td>146.50</td>\n",
       "      <td>147.50</td>\n",
       "      <td>0</td>\n",
       "      <td>0</td>\n",
       "      <td>215</td>\n",
       "      <td>647</td>\n",
       "      <td>56</td>\n",
       "      <td>TYPE_C</td>\n",
       "      <td>2.0</td>\n",
       "      <td>Beverages</td>\n",
       "      <td>Thai</td>\n",
       "    </tr>\n",
       "  </tbody>\n",
       "</table>\n",
       "</div>"
      ],
      "text/plain": [
       "        id  week  center_id  meal_id  checkout_price  base_price  \\\n",
       "0  1379560     1         55     1885          136.83      152.29   \n",
       "1  1018704     2         55     1885          135.83      152.29   \n",
       "2  1196273     3         55     1885          132.92      133.92   \n",
       "3  1116527     4         55     1885          135.86      134.86   \n",
       "4  1343872     5         55     1885          146.50      147.50   \n",
       "\n",
       "   emailer_for_promotion  homepage_featured  num_orders  city_code  \\\n",
       "0                      0                  0         177        647   \n",
       "1                      0                  0         323        647   \n",
       "2                      0                  0          96        647   \n",
       "3                      0                  0         163        647   \n",
       "4                      0                  0         215        647   \n",
       "\n",
       "   region_code center_type  op_area   category cuisine  \n",
       "0           56      TYPE_C      2.0  Beverages    Thai  \n",
       "1           56      TYPE_C      2.0  Beverages    Thai  \n",
       "2           56      TYPE_C      2.0  Beverages    Thai  \n",
       "3           56      TYPE_C      2.0  Beverages    Thai  \n",
       "4           56      TYPE_C      2.0  Beverages    Thai  "
      ]
     },
     "execution_count": 11,
     "metadata": {},
     "output_type": "execute_result"
    }
   ],
   "source": [
    "main_data=train_df.copy()\n",
    "main_data.head()"
   ]
  },
  {
   "cell_type": "code",
   "execution_count": 12,
   "metadata": {
    "colab": {
     "base_uri": "https://localhost:8080/",
     "height": 221
    },
    "colab_type": "code",
    "executionInfo": {
     "elapsed": 1565,
     "status": "ok",
     "timestamp": 1592040018504,
     "user": {
      "displayName": "amit",
      "photoUrl": "",
      "userId": "12797285159599571225"
     },
     "user_tz": -345
    },
    "id": "slgBbrbP87hR",
    "outputId": "b1bb8302-98ee-4ac3-86f4-b49dab695b52"
   },
   "outputs": [
    {
     "data": {
      "text/html": [
       "<div>\n",
       "<style scoped>\n",
       "    .dataframe tbody tr th:only-of-type {\n",
       "        vertical-align: middle;\n",
       "    }\n",
       "\n",
       "    .dataframe tbody tr th {\n",
       "        vertical-align: top;\n",
       "    }\n",
       "\n",
       "    .dataframe thead th {\n",
       "        text-align: right;\n",
       "    }\n",
       "</style>\n",
       "<table border=\"1\" class=\"dataframe\">\n",
       "  <thead>\n",
       "    <tr style=\"text-align: right;\">\n",
       "      <th></th>\n",
       "      <th>id</th>\n",
       "      <th>week</th>\n",
       "      <th>center_id</th>\n",
       "      <th>meal_id</th>\n",
       "      <th>checkout_price</th>\n",
       "      <th>base_price</th>\n",
       "      <th>emailer_for_promotion</th>\n",
       "      <th>homepage_featured</th>\n",
       "      <th>num_orders</th>\n",
       "      <th>city_code</th>\n",
       "      <th>region_code</th>\n",
       "      <th>center_type</th>\n",
       "      <th>op_area</th>\n",
       "      <th>category</th>\n",
       "      <th>cuisine</th>\n",
       "    </tr>\n",
       "  </thead>\n",
       "  <tbody>\n",
       "    <tr>\n",
       "      <th>0</th>\n",
       "      <td>1379560</td>\n",
       "      <td>1</td>\n",
       "      <td>55</td>\n",
       "      <td>1885</td>\n",
       "      <td>136.83</td>\n",
       "      <td>152.29</td>\n",
       "      <td>0</td>\n",
       "      <td>0</td>\n",
       "      <td>177</td>\n",
       "      <td>647</td>\n",
       "      <td>56</td>\n",
       "      <td>2</td>\n",
       "      <td>2.0</td>\n",
       "      <td>0</td>\n",
       "      <td>3</td>\n",
       "    </tr>\n",
       "    <tr>\n",
       "      <th>1</th>\n",
       "      <td>1018704</td>\n",
       "      <td>2</td>\n",
       "      <td>55</td>\n",
       "      <td>1885</td>\n",
       "      <td>135.83</td>\n",
       "      <td>152.29</td>\n",
       "      <td>0</td>\n",
       "      <td>0</td>\n",
       "      <td>323</td>\n",
       "      <td>647</td>\n",
       "      <td>56</td>\n",
       "      <td>2</td>\n",
       "      <td>2.0</td>\n",
       "      <td>0</td>\n",
       "      <td>3</td>\n",
       "    </tr>\n",
       "    <tr>\n",
       "      <th>2</th>\n",
       "      <td>1196273</td>\n",
       "      <td>3</td>\n",
       "      <td>55</td>\n",
       "      <td>1885</td>\n",
       "      <td>132.92</td>\n",
       "      <td>133.92</td>\n",
       "      <td>0</td>\n",
       "      <td>0</td>\n",
       "      <td>96</td>\n",
       "      <td>647</td>\n",
       "      <td>56</td>\n",
       "      <td>2</td>\n",
       "      <td>2.0</td>\n",
       "      <td>0</td>\n",
       "      <td>3</td>\n",
       "    </tr>\n",
       "    <tr>\n",
       "      <th>3</th>\n",
       "      <td>1116527</td>\n",
       "      <td>4</td>\n",
       "      <td>55</td>\n",
       "      <td>1885</td>\n",
       "      <td>135.86</td>\n",
       "      <td>134.86</td>\n",
       "      <td>0</td>\n",
       "      <td>0</td>\n",
       "      <td>163</td>\n",
       "      <td>647</td>\n",
       "      <td>56</td>\n",
       "      <td>2</td>\n",
       "      <td>2.0</td>\n",
       "      <td>0</td>\n",
       "      <td>3</td>\n",
       "    </tr>\n",
       "    <tr>\n",
       "      <th>4</th>\n",
       "      <td>1343872</td>\n",
       "      <td>5</td>\n",
       "      <td>55</td>\n",
       "      <td>1885</td>\n",
       "      <td>146.50</td>\n",
       "      <td>147.50</td>\n",
       "      <td>0</td>\n",
       "      <td>0</td>\n",
       "      <td>215</td>\n",
       "      <td>647</td>\n",
       "      <td>56</td>\n",
       "      <td>2</td>\n",
       "      <td>2.0</td>\n",
       "      <td>0</td>\n",
       "      <td>3</td>\n",
       "    </tr>\n",
       "  </tbody>\n",
       "</table>\n",
       "</div>"
      ],
      "text/plain": [
       "        id  week  center_id  meal_id  checkout_price  base_price  \\\n",
       "0  1379560     1         55     1885          136.83      152.29   \n",
       "1  1018704     2         55     1885          135.83      152.29   \n",
       "2  1196273     3         55     1885          132.92      133.92   \n",
       "3  1116527     4         55     1885          135.86      134.86   \n",
       "4  1343872     5         55     1885          146.50      147.50   \n",
       "\n",
       "   emailer_for_promotion  homepage_featured  num_orders  city_code  \\\n",
       "0                      0                  0         177        647   \n",
       "1                      0                  0         323        647   \n",
       "2                      0                  0          96        647   \n",
       "3                      0                  0         163        647   \n",
       "4                      0                  0         215        647   \n",
       "\n",
       "   region_code  center_type  op_area  category  cuisine  \n",
       "0           56            2      2.0         0        3  \n",
       "1           56            2      2.0         0        3  \n",
       "2           56            2      2.0         0        3  \n",
       "3           56            2      2.0         0        3  \n",
       "4           56            2      2.0         0        3  "
      ]
     },
     "execution_count": 12,
     "metadata": {},
     "output_type": "execute_result"
    }
   ],
   "source": [
    "main_data['category']=encoder.fit_transform(main_data['category'])\n",
    "main_data['center_type']=encoder2.fit_transform(main_data['center_type'])\n",
    "main_data['cuisine']=encoder3.fit_transform(main_data['cuisine'])\n",
    "main_data.head()"
   ]
  },
  {
   "cell_type": "code",
   "execution_count": 13,
   "metadata": {
    "colab": {
     "base_uri": "https://localhost:8080/",
     "height": 85
    },
    "colab_type": "code",
    "executionInfo": {
     "elapsed": 2564,
     "status": "ok",
     "timestamp": 1592040138127,
     "user": {
      "displayName": "amit",
      "photoUrl": "",
      "userId": "12797285159599571225"
     },
     "user_tz": -345
    },
    "id": "IG923i2t87k0",
    "outputId": "bbe944a0-f0ff-401e-c4e6-54fec993007c"
   },
   "outputs": [
    {
     "data": {
      "text/plain": [
       "Index(['num_orders', 'homepage_featured', 'emailer_for_promotion', 'op_area',\n",
       "       'cuisine', 'city_code', 'region_code', 'category'],\n",
       "      dtype='object')"
      ]
     },
     "execution_count": 13,
     "metadata": {},
     "output_type": "execute_result"
    }
   ],
   "source": [
    "main_data1= main_data.drop(['id'], axis=1)\n",
    "correlation = main_data1.corr(method='pearson')\n",
    "columns = correlation.nlargest(8, 'num_orders').index\n",
    "columns"
   ]
  },
  {
   "cell_type": "code",
   "execution_count": 14,
   "metadata": {
    "colab": {
     "base_uri": "https://localhost:8080/",
     "height": 389
    },
    "colab_type": "code",
    "executionInfo": {
     "elapsed": 2427,
     "status": "ok",
     "timestamp": 1592043360246,
     "user": {
      "displayName": "amit",
      "photoUrl": "",
      "userId": "12797285159599571225"
     },
     "user_tz": -345
    },
    "id": "LCJP9W6JKJfW",
    "outputId": "b65e25c8-d9be-49f1-aff5-5ad9086c9866"
   },
   "outputs": [
    {
     "data": {
      "image/png": "[encoded data removed]",
      "text/plain": [
       "<Figure size 432x288 with 2 Axes>"
      ]
     },
     "metadata": {
      "needs_background": "light"
     },
     "output_type": "display_data"
    }
   ],
   "source": [
    "sns.heatmap(correlation,annot=True)\n",
    "plt.show()"
   ]
  },
  {
   "cell_type": "code",
   "execution_count": 15,
   "metadata": {
    "colab": {},
    "colab_type": "code",
    "id": "jxNvYFhz87sM"
   },
   "outputs": [],
   "source": [
    "features = columns.drop(['num_orders'])\n",
    "main_data2 = main_data[features]\n",
    "X = main_data2.values\n",
    "y = main_data['num_orders'].values\n",
    "\n",
    "from sklearn.model_selection import train_test_split\n",
    "x_train, x_test, y_train, y_test = train_test_split(X, y, test_size=0.25,random_state=0)"
   ]
  },
  {
   "cell_type": "code",
   "execution_count": 16,
   "metadata": {
    "colab": {
     "base_uri": "https://localhost:8080/",
     "height": 51
    },
    "colab_type": "code",
    "executionInfo": {
     "elapsed": 2163,
     "status": "ok",
     "timestamp": 1592042345780,
     "user": {
      "displayName": "amit",
      "photoUrl": "",
      "userId": "12797285159599571225"
     },
     "user_tz": -345
    },
    "id": "A4HR4GNZ_2ab",
    "outputId": "ac7667d4-482b-454c-ddba-d026c4969c4c"
   },
   "outputs": [
    {
     "data": {
      "text/plain": [
       "(342411, 7)"
      ]
     },
     "execution_count": 16,
     "metadata": {},
     "output_type": "execute_result"
    }
   ],
   "source": [
    "x_train.shape"
   ]
  },
  {
   "cell_type": "code",
   "execution_count": 17,
   "metadata": {
    "colab": {
     "base_uri": "https://localhost:8080/",
     "height": 221
    },
    "colab_type": "code",
    "executionInfo": {
     "elapsed": 1372,
     "status": "ok",
     "timestamp": 1592043168986,
     "user": {
      "displayName": "amit",
      "photoUrl": "",
      "userId": "12797285159599571225"
     },
     "user_tz": -345
    },
    "id": "jTyYCfxwKl6f",
    "outputId": "af30f940-9e13-487d-eb8c-09ed543d1408"
   },
   "outputs": [
    {
     "data": {
      "text/html": [
       "<div>\n",
       "<style scoped>\n",
       "    .dataframe tbody tr th:only-of-type {\n",
       "        vertical-align: middle;\n",
       "    }\n",
       "\n",
       "    .dataframe tbody tr th {\n",
       "        vertical-align: top;\n",
       "    }\n",
       "\n",
       "    .dataframe thead th {\n",
       "        text-align: right;\n",
       "    }\n",
       "</style>\n",
       "<table border=\"1\" class=\"dataframe\">\n",
       "  <thead>\n",
       "    <tr style=\"text-align: right;\">\n",
       "      <th></th>\n",
       "      <th>id</th>\n",
       "      <th>week</th>\n",
       "      <th>center_id</th>\n",
       "      <th>meal_id</th>\n",
       "      <th>checkout_price</th>\n",
       "      <th>base_price</th>\n",
       "      <th>emailer_for_promotion</th>\n",
       "      <th>homepage_featured</th>\n",
       "      <th>city_code</th>\n",
       "      <th>region_code</th>\n",
       "      <th>center_type</th>\n",
       "      <th>op_area</th>\n",
       "      <th>category</th>\n",
       "      <th>cuisine</th>\n",
       "    </tr>\n",
       "  </thead>\n",
       "  <tbody>\n",
       "    <tr>\n",
       "      <th>0</th>\n",
       "      <td>1028232</td>\n",
       "      <td>146</td>\n",
       "      <td>55</td>\n",
       "      <td>1885</td>\n",
       "      <td>158.11</td>\n",
       "      <td>159.11</td>\n",
       "      <td>0</td>\n",
       "      <td>0</td>\n",
       "      <td>647</td>\n",
       "      <td>56</td>\n",
       "      <td>TYPE_C</td>\n",
       "      <td>2.0</td>\n",
       "      <td>Beverages</td>\n",
       "      <td>Thai</td>\n",
       "    </tr>\n",
       "    <tr>\n",
       "      <th>1</th>\n",
       "      <td>1262649</td>\n",
       "      <td>147</td>\n",
       "      <td>55</td>\n",
       "      <td>1885</td>\n",
       "      <td>159.11</td>\n",
       "      <td>159.11</td>\n",
       "      <td>0</td>\n",
       "      <td>0</td>\n",
       "      <td>647</td>\n",
       "      <td>56</td>\n",
       "      <td>TYPE_C</td>\n",
       "      <td>2.0</td>\n",
       "      <td>Beverages</td>\n",
       "      <td>Thai</td>\n",
       "    </tr>\n",
       "    <tr>\n",
       "      <th>2</th>\n",
       "      <td>1453211</td>\n",
       "      <td>149</td>\n",
       "      <td>55</td>\n",
       "      <td>1885</td>\n",
       "      <td>157.14</td>\n",
       "      <td>158.14</td>\n",
       "      <td>0</td>\n",
       "      <td>0</td>\n",
       "      <td>647</td>\n",
       "      <td>56</td>\n",
       "      <td>TYPE_C</td>\n",
       "      <td>2.0</td>\n",
       "      <td>Beverages</td>\n",
       "      <td>Thai</td>\n",
       "    </tr>\n",
       "    <tr>\n",
       "      <th>3</th>\n",
       "      <td>1262599</td>\n",
       "      <td>150</td>\n",
       "      <td>55</td>\n",
       "      <td>1885</td>\n",
       "      <td>159.14</td>\n",
       "      <td>157.14</td>\n",
       "      <td>0</td>\n",
       "      <td>0</td>\n",
       "      <td>647</td>\n",
       "      <td>56</td>\n",
       "      <td>TYPE_C</td>\n",
       "      <td>2.0</td>\n",
       "      <td>Beverages</td>\n",
       "      <td>Thai</td>\n",
       "    </tr>\n",
       "    <tr>\n",
       "      <th>4</th>\n",
       "      <td>1495848</td>\n",
       "      <td>151</td>\n",
       "      <td>55</td>\n",
       "      <td>1885</td>\n",
       "      <td>160.11</td>\n",
       "      <td>159.11</td>\n",
       "      <td>0</td>\n",
       "      <td>0</td>\n",
       "      <td>647</td>\n",
       "      <td>56</td>\n",
       "      <td>TYPE_C</td>\n",
       "      <td>2.0</td>\n",
       "      <td>Beverages</td>\n",
       "      <td>Thai</td>\n",
       "    </tr>\n",
       "  </tbody>\n",
       "</table>\n",
       "</div>"
      ],
      "text/plain": [
       "        id  week  center_id  meal_id  checkout_price  base_price  \\\n",
       "0  1028232   146         55     1885          158.11      159.11   \n",
       "1  1262649   147         55     1885          159.11      159.11   \n",
       "2  1453211   149         55     1885          157.14      158.14   \n",
       "3  1262599   150         55     1885          159.14      157.14   \n",
       "4  1495848   151         55     1885          160.11      159.11   \n",
       "\n",
       "   emailer_for_promotion  homepage_featured  city_code  region_code  \\\n",
       "0                      0                  0        647           56   \n",
       "1                      0                  0        647           56   \n",
       "2                      0                  0        647           56   \n",
       "3                      0                  0        647           56   \n",
       "4                      0                  0        647           56   \n",
       "\n",
       "  center_type  op_area   category cuisine  \n",
       "0      TYPE_C      2.0  Beverages    Thai  \n",
       "1      TYPE_C      2.0  Beverages    Thai  \n",
       "2      TYPE_C      2.0  Beverages    Thai  \n",
       "3      TYPE_C      2.0  Beverages    Thai  \n",
       "4      TYPE_C      2.0  Beverages    Thai  "
      ]
     },
     "execution_count": 17,
     "metadata": {},
     "output_type": "execute_result"
    }
   ],
   "source": [
    "test_data=test_df.copy()\n",
    "test_data.head()"
   ]
  },
  {
   "cell_type": "code",
   "execution_count": 18,
   "metadata": {
    "colab": {
     "base_uri": "https://localhost:8080/",
     "height": 221
    },
    "colab_type": "code",
    "executionInfo": {
     "elapsed": 3623,
     "status": "ok",
     "timestamp": 1592043249854,
     "user": {
      "displayName": "amit",
      "photoUrl": "",
      "userId": "12797285159599571225"
     },
     "user_tz": -345
    },
    "id": "0s-TrXT3KmKn",
    "outputId": "ff7026af-562a-43ef-c9e9-29de49ff4e79"
   },
   "outputs": [
    {
     "data": {
      "text/html": [
       "<div>\n",
       "<style scoped>\n",
       "    .dataframe tbody tr th:only-of-type {\n",
       "        vertical-align: middle;\n",
       "    }\n",
       "\n",
       "    .dataframe tbody tr th {\n",
       "        vertical-align: top;\n",
       "    }\n",
       "\n",
       "    .dataframe thead th {\n",
       "        text-align: right;\n",
       "    }\n",
       "</style>\n",
       "<table border=\"1\" class=\"dataframe\">\n",
       "  <thead>\n",
       "    <tr style=\"text-align: right;\">\n",
       "      <th></th>\n",
       "      <th>id</th>\n",
       "      <th>week</th>\n",
       "      <th>center_id</th>\n",
       "      <th>meal_id</th>\n",
       "      <th>checkout_price</th>\n",
       "      <th>base_price</th>\n",
       "      <th>emailer_for_promotion</th>\n",
       "      <th>homepage_featured</th>\n",
       "      <th>city_code</th>\n",
       "      <th>region_code</th>\n",
       "      <th>center_type</th>\n",
       "      <th>op_area</th>\n",
       "      <th>category</th>\n",
       "      <th>cuisine</th>\n",
       "    </tr>\n",
       "  </thead>\n",
       "  <tbody>\n",
       "    <tr>\n",
       "      <th>0</th>\n",
       "      <td>1028232</td>\n",
       "      <td>146</td>\n",
       "      <td>55</td>\n",
       "      <td>1885</td>\n",
       "      <td>158.11</td>\n",
       "      <td>159.11</td>\n",
       "      <td>0</td>\n",
       "      <td>0</td>\n",
       "      <td>647</td>\n",
       "      <td>56</td>\n",
       "      <td>2</td>\n",
       "      <td>2.0</td>\n",
       "      <td>0</td>\n",
       "      <td>3</td>\n",
       "    </tr>\n",
       "    <tr>\n",
       "      <th>1</th>\n",
       "      <td>1262649</td>\n",
       "      <td>147</td>\n",
       "      <td>55</td>\n",
       "      <td>1885</td>\n",
       "      <td>159.11</td>\n",
       "      <td>159.11</td>\n",
       "      <td>0</td>\n",
       "      <td>0</td>\n",
       "      <td>647</td>\n",
       "      <td>56</td>\n",
       "      <td>2</td>\n",
       "      <td>2.0</td>\n",
       "      <td>0</td>\n",
       "      <td>3</td>\n",
       "    </tr>\n",
       "    <tr>\n",
       "      <th>2</th>\n",
       "      <td>1453211</td>\n",
       "      <td>149</td>\n",
       "      <td>55</td>\n",
       "      <td>1885</td>\n",
       "      <td>157.14</td>\n",
       "      <td>158.14</td>\n",
       "      <td>0</td>\n",
       "      <td>0</td>\n",
       "      <td>647</td>\n",
       "      <td>56</td>\n",
       "      <td>2</td>\n",
       "      <td>2.0</td>\n",
       "      <td>0</td>\n",
       "      <td>3</td>\n",
       "    </tr>\n",
       "    <tr>\n",
       "      <th>3</th>\n",
       "      <td>1262599</td>\n",
       "      <td>150</td>\n",
       "      <td>55</td>\n",
       "      <td>1885</td>\n",
       "      <td>159.14</td>\n",
       "      <td>157.14</td>\n",
       "      <td>0</td>\n",
       "      <td>0</td>\n",
       "      <td>647</td>\n",
       "      <td>56</td>\n",
       "      <td>2</td>\n",
       "      <td>2.0</td>\n",
       "      <td>0</td>\n",
       "      <td>3</td>\n",
       "    </tr>\n",
       "    <tr>\n",
       "      <th>4</th>\n",
       "      <td>1495848</td>\n",
       "      <td>151</td>\n",
       "      <td>55</td>\n",
       "      <td>1885</td>\n",
       "      <td>160.11</td>\n",
       "      <td>159.11</td>\n",
       "      <td>0</td>\n",
       "      <td>0</td>\n",
       "      <td>647</td>\n",
       "      <td>56</td>\n",
       "      <td>2</td>\n",
       "      <td>2.0</td>\n",
       "      <td>0</td>\n",
       "      <td>3</td>\n",
       "    </tr>\n",
       "  </tbody>\n",
       "</table>\n",
       "</div>"
      ],
      "text/plain": [
       "        id  week  center_id  meal_id  checkout_price  base_price  \\\n",
       "0  1028232   146         55     1885          158.11      159.11   \n",
       "1  1262649   147         55     1885          159.11      159.11   \n",
       "2  1453211   149         55     1885          157.14      158.14   \n",
       "3  1262599   150         55     1885          159.14      157.14   \n",
       "4  1495848   151         55     1885          160.11      159.11   \n",
       "\n",
       "   emailer_for_promotion  homepage_featured  city_code  region_code  \\\n",
       "0                      0                  0        647           56   \n",
       "1                      0                  0        647           56   \n",
       "2                      0                  0        647           56   \n",
       "3                      0                  0        647           56   \n",
       "4                      0                  0        647           56   \n",
       "\n",
       "   center_type  op_area  category  cuisine  \n",
       "0            2      2.0         0        3  \n",
       "1            2      2.0         0        3  \n",
       "2            2      2.0         0        3  \n",
       "3            2      2.0         0        3  \n",
       "4            2      2.0         0        3  "
      ]
     },
     "execution_count": 18,
     "metadata": {},
     "output_type": "execute_result"
    }
   ],
   "source": [
    "test_data['category']=encoder.fit_transform(test_data['category'])\n",
    "test_data['center_type']=encoder2.fit_transform(test_data['center_type'])\n",
    "test_data['cuisine']=encoder3.fit_transform(test_data['cuisine'])\n",
    "test_data.head()"
   ]
  },
  {
   "cell_type": "code",
   "execution_count": 19,
   "metadata": {
    "colab": {
     "base_uri": "https://localhost:8080/",
     "height": 221
    },
    "colab_type": "code",
    "executionInfo": {
     "elapsed": 3156,
     "status": "ok",
     "timestamp": 1592044319442,
     "user": {
      "displayName": "amit",
      "photoUrl": "",
      "userId": "12797285159599571225"
     },
     "user_tz": -345
    },
    "id": "pfSxhfalLjLa",
    "outputId": "ced5fef3-d9ce-4a59-fc15-6cce5f9065c1"
   },
   "outputs": [
    {
     "data": {
      "text/html": [
       "<div>\n",
       "<style scoped>\n",
       "    .dataframe tbody tr th:only-of-type {\n",
       "        vertical-align: middle;\n",
       "    }\n",
       "\n",
       "    .dataframe tbody tr th {\n",
       "        vertical-align: top;\n",
       "    }\n",
       "\n",
       "    .dataframe thead th {\n",
       "        text-align: right;\n",
       "    }\n",
       "</style>\n",
       "<table border=\"1\" class=\"dataframe\">\n",
       "  <thead>\n",
       "    <tr style=\"text-align: right;\">\n",
       "      <th></th>\n",
       "      <th>id</th>\n",
       "      <th>week</th>\n",
       "      <th>center_id</th>\n",
       "      <th>meal_id</th>\n",
       "      <th>checkout_price</th>\n",
       "      <th>base_price</th>\n",
       "      <th>emailer_for_promotion</th>\n",
       "      <th>homepage_featured</th>\n",
       "      <th>city_code</th>\n",
       "      <th>region_code</th>\n",
       "      <th>center_type</th>\n",
       "      <th>op_area</th>\n",
       "      <th>category</th>\n",
       "      <th>cuisine</th>\n",
       "    </tr>\n",
       "  </thead>\n",
       "  <tbody>\n",
       "    <tr>\n",
       "      <th>0</th>\n",
       "      <td>1028232</td>\n",
       "      <td>146</td>\n",
       "      <td>55</td>\n",
       "      <td>1885</td>\n",
       "      <td>158.11</td>\n",
       "      <td>159.11</td>\n",
       "      <td>0</td>\n",
       "      <td>0</td>\n",
       "      <td>647</td>\n",
       "      <td>56</td>\n",
       "      <td>2</td>\n",
       "      <td>2.0</td>\n",
       "      <td>0</td>\n",
       "      <td>3</td>\n",
       "    </tr>\n",
       "    <tr>\n",
       "      <th>1</th>\n",
       "      <td>1262649</td>\n",
       "      <td>147</td>\n",
       "      <td>55</td>\n",
       "      <td>1885</td>\n",
       "      <td>159.11</td>\n",
       "      <td>159.11</td>\n",
       "      <td>0</td>\n",
       "      <td>0</td>\n",
       "      <td>647</td>\n",
       "      <td>56</td>\n",
       "      <td>2</td>\n",
       "      <td>2.0</td>\n",
       "      <td>0</td>\n",
       "      <td>3</td>\n",
       "    </tr>\n",
       "    <tr>\n",
       "      <th>2</th>\n",
       "      <td>1453211</td>\n",
       "      <td>149</td>\n",
       "      <td>55</td>\n",
       "      <td>1885</td>\n",
       "      <td>157.14</td>\n",
       "      <td>158.14</td>\n",
       "      <td>0</td>\n",
       "      <td>0</td>\n",
       "      <td>647</td>\n",
       "      <td>56</td>\n",
       "      <td>2</td>\n",
       "      <td>2.0</td>\n",
       "      <td>0</td>\n",
       "      <td>3</td>\n",
       "    </tr>\n",
       "    <tr>\n",
       "      <th>3</th>\n",
       "      <td>1262599</td>\n",
       "      <td>150</td>\n",
       "      <td>55</td>\n",
       "      <td>1885</td>\n",
       "      <td>159.14</td>\n",
       "      <td>157.14</td>\n",
       "      <td>0</td>\n",
       "      <td>0</td>\n",
       "      <td>647</td>\n",
       "      <td>56</td>\n",
       "      <td>2</td>\n",
       "      <td>2.0</td>\n",
       "      <td>0</td>\n",
       "      <td>3</td>\n",
       "    </tr>\n",
       "    <tr>\n",
       "      <th>4</th>\n",
       "      <td>1495848</td>\n",
       "      <td>151</td>\n",
       "      <td>55</td>\n",
       "      <td>1885</td>\n",
       "      <td>160.11</td>\n",
       "      <td>159.11</td>\n",
       "      <td>0</td>\n",
       "      <td>0</td>\n",
       "      <td>647</td>\n",
       "      <td>56</td>\n",
       "      <td>2</td>\n",
       "      <td>2.0</td>\n",
       "      <td>0</td>\n",
       "      <td>3</td>\n",
       "    </tr>\n",
       "  </tbody>\n",
       "</table>\n",
       "</div>"
      ],
      "text/plain": [
       "        id  week  center_id  meal_id  checkout_price  base_price  \\\n",
       "0  1028232   146         55     1885          158.11      159.11   \n",
       "1  1262649   147         55     1885          159.11      159.11   \n",
       "2  1453211   149         55     1885          157.14      158.14   \n",
       "3  1262599   150         55     1885          159.14      157.14   \n",
       "4  1495848   151         55     1885          160.11      159.11   \n",
       "\n",
       "   emailer_for_promotion  homepage_featured  city_code  region_code  \\\n",
       "0                      0                  0        647           56   \n",
       "1                      0                  0        647           56   \n",
       "2                      0                  0        647           56   \n",
       "3                      0                  0        647           56   \n",
       "4                      0                  0        647           56   \n",
       "\n",
       "   center_type  op_area  category  cuisine  \n",
       "0            2      2.0         0        3  \n",
       "1            2      2.0         0        3  \n",
       "2            2      2.0         0        3  \n",
       "3            2      2.0         0        3  \n",
       "4            2      2.0         0        3  "
      ]
     },
     "execution_count": 19,
     "metadata": {},
     "output_type": "execute_result"
    }
   ],
   "source": [
    "test_data1=test_data.copy()\n",
    "test_data1.head()"
   ]
  },
  {
   "cell_type": "code",
   "execution_count": 20,
   "metadata": {
    "colab": {
     "base_uri": "https://localhost:8080/",
     "height": 221
    },
    "colab_type": "code",
    "executionInfo": {
     "elapsed": 3243,
     "status": "ok",
     "timestamp": 1592045187779,
     "user": {
      "displayName": "amit",
      "photoUrl": "",
      "userId": "12797285159599571225"
     },
     "user_tz": -345
    },
    "id": "3XFyb0GMLjOA",
    "outputId": "ae0f7254-ccbe-4f32-9c46-6ad302f6d251"
   },
   "outputs": [
    {
     "data": {
      "text/html": [
       "<div>\n",
       "<style scoped>\n",
       "    .dataframe tbody tr th:only-of-type {\n",
       "        vertical-align: middle;\n",
       "    }\n",
       "\n",
       "    .dataframe tbody tr th {\n",
       "        vertical-align: top;\n",
       "    }\n",
       "\n",
       "    .dataframe thead th {\n",
       "        text-align: right;\n",
       "    }\n",
       "</style>\n",
       "<table border=\"1\" class=\"dataframe\">\n",
       "  <thead>\n",
       "    <tr style=\"text-align: right;\">\n",
       "      <th></th>\n",
       "      <th>emailer_for_promotion</th>\n",
       "      <th>homepage_featured</th>\n",
       "      <th>city_code</th>\n",
       "      <th>region_code</th>\n",
       "      <th>op_area</th>\n",
       "      <th>category</th>\n",
       "      <th>cuisine</th>\n",
       "    </tr>\n",
       "  </thead>\n",
       "  <tbody>\n",
       "    <tr>\n",
       "      <th>0</th>\n",
       "      <td>0</td>\n",
       "      <td>0</td>\n",
       "      <td>647</td>\n",
       "      <td>56</td>\n",
       "      <td>2.0</td>\n",
       "      <td>0</td>\n",
       "      <td>3</td>\n",
       "    </tr>\n",
       "    <tr>\n",
       "      <th>1</th>\n",
       "      <td>0</td>\n",
       "      <td>0</td>\n",
       "      <td>647</td>\n",
       "      <td>56</td>\n",
       "      <td>2.0</td>\n",
       "      <td>0</td>\n",
       "      <td>3</td>\n",
       "    </tr>\n",
       "    <tr>\n",
       "      <th>2</th>\n",
       "      <td>0</td>\n",
       "      <td>0</td>\n",
       "      <td>647</td>\n",
       "      <td>56</td>\n",
       "      <td>2.0</td>\n",
       "      <td>0</td>\n",
       "      <td>3</td>\n",
       "    </tr>\n",
       "    <tr>\n",
       "      <th>3</th>\n",
       "      <td>0</td>\n",
       "      <td>0</td>\n",
       "      <td>647</td>\n",
       "      <td>56</td>\n",
       "      <td>2.0</td>\n",
       "      <td>0</td>\n",
       "      <td>3</td>\n",
       "    </tr>\n",
       "    <tr>\n",
       "      <th>4</th>\n",
       "      <td>0</td>\n",
       "      <td>0</td>\n",
       "      <td>647</td>\n",
       "      <td>56</td>\n",
       "      <td>2.0</td>\n",
       "      <td>0</td>\n",
       "      <td>3</td>\n",
       "    </tr>\n",
       "  </tbody>\n",
       "</table>\n",
       "</div>"
      ],
      "text/plain": [
       "   emailer_for_promotion  homepage_featured  city_code  region_code  op_area  \\\n",
       "0                      0                  0        647           56      2.0   \n",
       "1                      0                  0        647           56      2.0   \n",
       "2                      0                  0        647           56      2.0   \n",
       "3                      0                  0        647           56      2.0   \n",
       "4                      0                  0        647           56      2.0   \n",
       "\n",
       "   category  cuisine  \n",
       "0         0        3  \n",
       "1         0        3  \n",
       "2         0        3  \n",
       "3         0        3  \n",
       "4         0        3  "
      ]
     },
     "execution_count": 20,
     "metadata": {},
     "output_type": "execute_result"
    }
   ],
   "source": [
    "test_data_final=test_data1.drop(columns=['id','center_id','meal_id','week','checkout_price','base_price','center_type'],axis=1)\n",
    "test_data_final.head()"
   ]
  },
  {
   "cell_type": "code",
   "execution_count": 21,
   "metadata": {
    "colab": {},
    "colab_type": "code",
    "id": "tRJykGaIBZ8L"
   },
   "outputs": [],
   "source": [
    "#Building Models"
   ]
  },
  {
   "cell_type": "code",
   "execution_count": 22,
   "metadata": {
    "colab": {},
    "colab_type": "code",
    "id": "ZDZh0VJ-_2eY"
   },
   "outputs": [],
   "source": [
    "from sklearn.tree import DecisionTreeRegressor\n",
    "DTR = DecisionTreeRegressor()\n",
    "DTR.fit(x_train, y_train)\n",
    "y_pred = DTR.predict(x_test)"
   ]
  },
  {
   "cell_type": "code",
   "execution_count": 25,
   "metadata": {
    "colab": {
     "base_uri": "https://localhost:8080/",
     "height": 51
    },
    "colab_type": "code",
    "executionInfo": {
     "elapsed": 1393,
     "status": "ok",
     "timestamp": 1592042454940,
     "user": {
      "displayName": "amit",
      "photoUrl": "",
      "userId": "12797285159599571225"
     },
     "user_tz": -345
    },
    "id": "S9HBSRS8BbbV",
    "outputId": "dd09d660-f6cd-4b38-88ed-c29835017d99"
   },
   "outputs": [
    {
     "data": {
      "text/plain": [
       "0.6295586792091123"
      ]
     },
     "execution_count": 25,
     "metadata": {},
     "output_type": "execute_result"
    }
   ],
   "source": [
    "from sklearn.metrics import mean_squared_log_error\n",
    "from sklearn import metrics\n",
    "RMSEL=mean_squared_log_error(y_test, y_pred)\n",
    "RMSEL=np.sqrt(RMSEL)\n",
    "RMSEL"
   ]
  },
  {
   "cell_type": "code",
   "execution_count": 26,
   "metadata": {
    "colab": {
     "base_uri": "https://localhost:8080/",
     "height": 68
    },
    "colab_type": "code",
    "executionInfo": {
     "elapsed": 13891,
     "status": "ok",
     "timestamp": 1592042566136,
     "user": {
      "displayName": "amit",
      "photoUrl": "",
      "userId": "12797285159599571225"
     },
     "user_tz": -345
    },
    "id": "g4WoLk1PBYge",
    "outputId": "86387659-1250-4069-c400-524a7e646dd4"
   },
   "outputs": [
    {
     "name": "stdout",
     "output_type": "stream",
     "text": [
      "0.6852918836223324\n"
     ]
    }
   ],
   "source": [
    "# !pip install xgboost\n",
    "from xgboost import XGBRegressor\n",
    "XG = XGBRegressor()\n",
    "XG.fit(x_train, y_train)\n",
    "y_pred = XG.predict(x_test)\n",
    "y_pred[y_pred<0] = 0\n",
    "RMSEL=mean_squared_log_error(y_test, y_pred)\n",
    "RMSEL=np.sqrt(RMSEL)\n",
    "print(RMSEL)\n"
   ]
  },
  {
   "cell_type": "code",
   "execution_count": null,
   "metadata": {
    "colab": {},
    "colab_type": "code",
    "id": "JAuUDA6YCFYo"
   },
   "outputs": [],
   "source": []
  },
  {
   "cell_type": "code",
   "execution_count": 27,
   "metadata": {
    "colab": {
     "base_uri": "https://localhost:8080/",
     "height": 51
    },
    "colab_type": "code",
    "executionInfo": {
     "elapsed": 20292,
     "status": "ok",
     "timestamp": 1592042650745,
     "user": {
      "displayName": "amit",
      "photoUrl": "",
      "userId": "12797285159599571225"
     },
     "user_tz": -345
    },
    "id": "g7_5zONYB66T",
    "outputId": "16fab81a-e026-4200-8afc-7c9f769ad40a"
   },
   "outputs": [
    {
     "data": {
      "text/plain": [
       "0.9431287796406321"
      ]
     },
     "execution_count": 27,
     "metadata": {},
     "output_type": "execute_result"
    }
   ],
   "source": [
    "from sklearn.ensemble import GradientBoostingRegressor\n",
    "GB = GradientBoostingRegressor()\n",
    "GB.fit(x_train, y_train)\n",
    "y_pred = GB.predict(x_test)\n",
    "y_pred[y_pred<0] = 0\n",
    "RMSEL=mean_squared_log_error(y_test, y_pred)\n",
    "RMSEL=np.sqrt(RMSEL)\n",
    "RMSEL\n"
   ]
  },
  {
   "cell_type": "code",
   "execution_count": 28,
   "metadata": {
    "colab": {
     "base_uri": "https://localhost:8080/",
     "height": 51
    },
    "colab_type": "code",
    "executionInfo": {
     "elapsed": 34391,
     "status": "ok",
     "timestamp": 1592042720678,
     "user": {
      "displayName": "amit",
      "photoUrl": "",
      "userId": "12797285159599571225"
     },
     "user_tz": -345
    },
    "id": "18zOGLoXDUma",
    "outputId": "277d50c9-1bb9-4db5-f5e7-1db8c8d9ef94"
   },
   "outputs": [
    {
     "data": {
      "text/plain": [
       "0.6294590656522306"
      ]
     },
     "execution_count": 28,
     "metadata": {},
     "output_type": "execute_result"
    }
   ],
   "source": [
    "from sklearn.ensemble import RandomForestRegressor\n",
    "RF = RandomForestRegressor()\n",
    "RF.fit(x_train, y_train)\n",
    "y_pred = RF.predict(x_test)\n",
    "y_pred[y_pred<0] = 0\n",
    "RMSEL=mean_squared_log_error(y_test, y_pred)\n",
    "RMSEL=np.sqrt(RMSEL)\n",
    "RMSEL\n"
   ]
  },
  {
   "cell_type": "code",
   "execution_count": 29,
   "metadata": {
    "colab": {},
    "colab_type": "code",
    "id": "DBgJVLq10Um_"
   },
   "outputs": [],
   "source": [
    "y=train_file['num_orders']\n"
   ]
  },
  {
   "cell_type": "code",
   "execution_count": 30,
   "metadata": {
    "colab": {},
    "colab_type": "code",
    "id": "W3KG8gcq0UyG"
   },
   "outputs": [],
   "source": [
    "from lightgbm import LGBMRegressor,plot_importance\n",
    "from xgboost import XGBRegressor\n",
    "from sklearn.metrics import mean_squared_log_error,mean_squared_error\n",
    "from sklearn.model_selection import GridSearchCV\n"
   ]
  },
  {
   "cell_type": "code",
   "execution_count": 31,
   "metadata": {
    "colab": {
     "base_uri": "https://localhost:8080/",
     "height": 153
    },
    "colab_type": "code",
    "executionInfo": {
     "elapsed": 1544,
     "status": "ok",
     "timestamp": 1592041674979,
     "user": {
      "displayName": "amit",
      "photoUrl": "",
      "userId": "12797285159599571225"
     },
     "user_tz": -345
    },
    "id": "ruM10oES0U0r",
    "outputId": "eecc6c58-9369-4888-fe61-50d2ca278488"
   },
   "outputs": [
    {
     "data": {
      "text/plain": [
       "LGBMRegressor(importance_type='gain', min_child_samples=[40, 45, 50],\n",
       "              n_estimators=[230, 260], num_leaves=[41, 51],\n",
       "              random_state=[2019])"
      ]
     },
     "execution_count": 31,
     "metadata": {},
     "output_type": "execute_result"
    }
   ],
   "source": [
    "# !pip install lightgbm\n",
    "from lightgbm import LGBMRegressor\n",
    "lgb_model=LGBMRegressor(importance_type='gain')\n",
    "lgbm_params = {\n",
    "    \"n_estimators\":[230,260],\n",
    "    \"num_leaves\":[41,51],\n",
    "    'min_child_samples':[40,45,50],\n",
    "    'random_state':[2019]\n",
    "  \n",
    "}\n",
    "lgb_model.set_params(**lgbm_params) #base model"
   ]
  },
  {
   "cell_type": "code",
   "execution_count": 32,
   "metadata": {
    "colab": {},
    "colab_type": "code",
    "id": "Fhg5NK1h0U3F"
   },
   "outputs": [],
   "source": [
    "lgb_grid=GridSearchCV(lgb_model,lgbm_params,cv=5,scoring='neg_mean_squared_error',n_jobs=8)"
   ]
  },
  {
   "cell_type": "code",
   "execution_count": 33,
   "metadata": {
    "colab": {},
    "colab_type": "code",
    "id": "hbS_5mZqIjrv"
   },
   "outputs": [],
   "source": [
    "model=lgb_grid.fit(x_train,y_train)"
   ]
  },
  {
   "cell_type": "code",
   "execution_count": 34,
   "metadata": {
    "colab": {
     "base_uri": "https://localhost:8080/",
     "height": 136
    },
    "colab_type": "code",
    "executionInfo": {
     "elapsed": 1770,
     "status": "ok",
     "timestamp": 1592037967223,
     "user": {
      "displayName": "amit",
      "photoUrl": "",
      "userId": "12797285159599571225"
     },
     "user_tz": -345
    },
    "id": "M5-O0v-jIj0W",
    "outputId": "8f0db54f-eb51-4cbf-a0aa-0d728b5b54b9"
   },
   "outputs": [
    {
     "data": {
      "text/plain": [
       "LGBMRegressor(importance_type='gain', min_child_samples=50, n_estimators=260,\n",
       "              num_leaves=51, random_state=2019)"
      ]
     },
     "execution_count": 34,
     "metadata": {},
     "output_type": "execute_result"
    }
   ],
   "source": [
    "lgb_estimate=model.best_estimator_\n",
    "lgb_estimate"
   ]
  },
  {
   "cell_type": "code",
   "execution_count": 35,
   "metadata": {
    "colab": {
     "base_uri": "https://localhost:8080/",
     "height": 68
    },
    "colab_type": "code",
    "executionInfo": {
     "elapsed": 2330,
     "status": "ok",
     "timestamp": 1592041982587,
     "user": {
      "displayName": "amit",
      "photoUrl": "",
      "userId": "12797285159599571225"
     },
     "user_tz": -345
    },
    "id": "TgTk8t51Ij5O",
    "outputId": "b0631577-39b7-44db-b2be-00fa3879eca1"
   },
   "outputs": [
    {
     "data": {
      "text/plain": [
       "array([396.24319312, 116.54608316,  60.42639822, ..., 463.23949173,\n",
       "        52.8740641 , 144.91169307])"
      ]
     },
     "execution_count": 35,
     "metadata": {},
     "output_type": "execute_result"
    }
   ],
   "source": [
    "y_pred=model.predict(x_test)\n",
    "y_pred"
   ]
  },
  {
   "cell_type": "code",
   "execution_count": null,
   "metadata": {
    "colab": {
     "base_uri": "https://localhost:8080/",
     "height": 51
    },
    "colab_type": "code",
    "executionInfo": {
     "elapsed": 1863,
     "status": "ok",
     "timestamp": 1592037978685,
     "user": {
      "displayName": "amit",
      "photoUrl": "",
      "userId": "12797285159599571225"
     },
     "user_tz": -345
    },
    "id": "vahEq_BcIj_O",
    "outputId": "cdfaa0c3-ab24-4f64-fa27-63ce705856d5"
   },
   "outputs": [],
   "source": []
  },
  {
   "cell_type": "code",
   "execution_count": 36,
   "metadata": {
    "colab": {
     "base_uri": "https://localhost:8080/",
     "height": 51
    },
    "colab_type": "code",
    "executionInfo": {
     "elapsed": 1520,
     "status": "ok",
     "timestamp": 1592042152247,
     "user": {
      "displayName": "amit",
      "photoUrl": "",
      "userId": "12797285159599571225"
     },
     "user_tz": -345
    },
    "id": "MDvELDAOIkC-",
    "outputId": "8c706306-832d-4562-d90e-394cd181236a"
   },
   "outputs": [
    {
     "data": {
      "text/plain": [
       "0.6487183707268681"
      ]
     },
     "execution_count": 36,
     "metadata": {},
     "output_type": "execute_result"
    }
   ],
   "source": [
    "y_pred[y_pred<0] = 0\n",
    "RMSEL=mean_squared_log_error(y_test, y_pred)\n",
    "RMSEL=np.sqrt(RMSEL)\n",
    "RMSEL\n"
   ]
  },
  {
   "cell_type": "code",
   "execution_count": 37,
   "metadata": {
    "colab": {},
    "colab_type": "code",
    "id": "p1olFlK0QxNX"
   },
   "outputs": [],
   "source": [
    "#by comparision the error value of differents models for training data, the lowest error value got from Random Forest Regressio Model\n",
    "#prediction on test data by Random Forest Regressor"
   ]
  },
  {
   "cell_type": "code",
   "execution_count": 38,
   "metadata": {
    "colab": {
     "base_uri": "https://localhost:8080/",
     "height": 221
    },
    "colab_type": "code",
    "executionInfo": {
     "elapsed": 1634,
     "status": "ok",
     "timestamp": 1592045275153,
     "user": {
      "displayName": "amit",
      "photoUrl": "",
      "userId": "12797285159599571225"
     },
     "user_tz": -345
    },
    "id": "sKb9qvUhSsRI",
    "outputId": "037170ff-1a1e-4f42-9580-4c4a52fd4dbe"
   },
   "outputs": [
    {
     "data": {
      "text/html": [
       "<div>\n",
       "<style scoped>\n",
       "    .dataframe tbody tr th:only-of-type {\n",
       "        vertical-align: middle;\n",
       "    }\n",
       "\n",
       "    .dataframe tbody tr th {\n",
       "        vertical-align: top;\n",
       "    }\n",
       "\n",
       "    .dataframe thead th {\n",
       "        text-align: right;\n",
       "    }\n",
       "</style>\n",
       "<table border=\"1\" class=\"dataframe\">\n",
       "  <thead>\n",
       "    <tr style=\"text-align: right;\">\n",
       "      <th></th>\n",
       "      <th>emailer_for_promotion</th>\n",
       "      <th>homepage_featured</th>\n",
       "      <th>city_code</th>\n",
       "      <th>region_code</th>\n",
       "      <th>op_area</th>\n",
       "      <th>category</th>\n",
       "      <th>cuisine</th>\n",
       "    </tr>\n",
       "  </thead>\n",
       "  <tbody>\n",
       "    <tr>\n",
       "      <th>0</th>\n",
       "      <td>0</td>\n",
       "      <td>0</td>\n",
       "      <td>647</td>\n",
       "      <td>56</td>\n",
       "      <td>2.0</td>\n",
       "      <td>0</td>\n",
       "      <td>3</td>\n",
       "    </tr>\n",
       "    <tr>\n",
       "      <th>1</th>\n",
       "      <td>0</td>\n",
       "      <td>0</td>\n",
       "      <td>647</td>\n",
       "      <td>56</td>\n",
       "      <td>2.0</td>\n",
       "      <td>0</td>\n",
       "      <td>3</td>\n",
       "    </tr>\n",
       "    <tr>\n",
       "      <th>2</th>\n",
       "      <td>0</td>\n",
       "      <td>0</td>\n",
       "      <td>647</td>\n",
       "      <td>56</td>\n",
       "      <td>2.0</td>\n",
       "      <td>0</td>\n",
       "      <td>3</td>\n",
       "    </tr>\n",
       "    <tr>\n",
       "      <th>3</th>\n",
       "      <td>0</td>\n",
       "      <td>0</td>\n",
       "      <td>647</td>\n",
       "      <td>56</td>\n",
       "      <td>2.0</td>\n",
       "      <td>0</td>\n",
       "      <td>3</td>\n",
       "    </tr>\n",
       "    <tr>\n",
       "      <th>4</th>\n",
       "      <td>0</td>\n",
       "      <td>0</td>\n",
       "      <td>647</td>\n",
       "      <td>56</td>\n",
       "      <td>2.0</td>\n",
       "      <td>0</td>\n",
       "      <td>3</td>\n",
       "    </tr>\n",
       "  </tbody>\n",
       "</table>\n",
       "</div>"
      ],
      "text/plain": [
       "   emailer_for_promotion  homepage_featured  city_code  region_code  op_area  \\\n",
       "0                      0                  0        647           56      2.0   \n",
       "1                      0                  0        647           56      2.0   \n",
       "2                      0                  0        647           56      2.0   \n",
       "3                      0                  0        647           56      2.0   \n",
       "4                      0                  0        647           56      2.0   \n",
       "\n",
       "   category  cuisine  \n",
       "0         0        3  \n",
       "1         0        3  \n",
       "2         0        3  \n",
       "3         0        3  \n",
       "4         0        3  "
      ]
     },
     "execution_count": 38,
     "metadata": {},
     "output_type": "execute_result"
    }
   ],
   "source": [
    "test_data_final.head()"
   ]
  },
  {
   "cell_type": "code",
   "execution_count": 39,
   "metadata": {
    "colab": {
     "base_uri": "https://localhost:8080/",
     "height": 221
    },
    "colab_type": "code",
    "executionInfo": {
     "elapsed": 2060,
     "status": "ok",
     "timestamp": 1592045292147,
     "user": {
      "displayName": "amit",
      "photoUrl": "",
      "userId": "12797285159599571225"
     },
     "user_tz": -345
    },
    "id": "KfggcfX1SxKP",
    "outputId": "8c2e611a-2058-4fc1-b94b-2a8040e64aa6"
   },
   "outputs": [
    {
     "data": {
      "text/html": [
       "<div>\n",
       "<style scoped>\n",
       "    .dataframe tbody tr th:only-of-type {\n",
       "        vertical-align: middle;\n",
       "    }\n",
       "\n",
       "    .dataframe tbody tr th {\n",
       "        vertical-align: top;\n",
       "    }\n",
       "\n",
       "    .dataframe thead th {\n",
       "        text-align: right;\n",
       "    }\n",
       "</style>\n",
       "<table border=\"1\" class=\"dataframe\">\n",
       "  <thead>\n",
       "    <tr style=\"text-align: right;\">\n",
       "      <th></th>\n",
       "      <th>homepage_featured</th>\n",
       "      <th>emailer_for_promotion</th>\n",
       "      <th>op_area</th>\n",
       "      <th>cuisine</th>\n",
       "      <th>city_code</th>\n",
       "      <th>region_code</th>\n",
       "      <th>category</th>\n",
       "    </tr>\n",
       "  </thead>\n",
       "  <tbody>\n",
       "    <tr>\n",
       "      <th>0</th>\n",
       "      <td>0</td>\n",
       "      <td>0</td>\n",
       "      <td>2.0</td>\n",
       "      <td>3</td>\n",
       "      <td>647</td>\n",
       "      <td>56</td>\n",
       "      <td>0</td>\n",
       "    </tr>\n",
       "    <tr>\n",
       "      <th>1</th>\n",
       "      <td>0</td>\n",
       "      <td>0</td>\n",
       "      <td>2.0</td>\n",
       "      <td>3</td>\n",
       "      <td>647</td>\n",
       "      <td>56</td>\n",
       "      <td>0</td>\n",
       "    </tr>\n",
       "    <tr>\n",
       "      <th>2</th>\n",
       "      <td>0</td>\n",
       "      <td>0</td>\n",
       "      <td>2.0</td>\n",
       "      <td>3</td>\n",
       "      <td>647</td>\n",
       "      <td>56</td>\n",
       "      <td>0</td>\n",
       "    </tr>\n",
       "    <tr>\n",
       "      <th>3</th>\n",
       "      <td>0</td>\n",
       "      <td>0</td>\n",
       "      <td>2.0</td>\n",
       "      <td>3</td>\n",
       "      <td>647</td>\n",
       "      <td>56</td>\n",
       "      <td>0</td>\n",
       "    </tr>\n",
       "    <tr>\n",
       "      <th>4</th>\n",
       "      <td>0</td>\n",
       "      <td>0</td>\n",
       "      <td>2.0</td>\n",
       "      <td>3</td>\n",
       "      <td>647</td>\n",
       "      <td>56</td>\n",
       "      <td>0</td>\n",
       "    </tr>\n",
       "  </tbody>\n",
       "</table>\n",
       "</div>"
      ],
      "text/plain": [
       "   homepage_featured  emailer_for_promotion  op_area  cuisine  city_code  \\\n",
       "0                  0                      0      2.0        3        647   \n",
       "1                  0                      0      2.0        3        647   \n",
       "2                  0                      0      2.0        3        647   \n",
       "3                  0                      0      2.0        3        647   \n",
       "4                  0                      0      2.0        3        647   \n",
       "\n",
       "   region_code  category  \n",
       "0           56         0  \n",
       "1           56         0  \n",
       "2           56         0  \n",
       "3           56         0  \n",
       "4           56         0  "
      ]
     },
     "execution_count": 39,
     "metadata": {},
     "output_type": "execute_result"
    }
   ],
   "source": [
    "main_data2.head()"
   ]
  },
  {
   "cell_type": "code",
   "execution_count": 40,
   "metadata": {
    "colab": {},
    "colab_type": "code",
    "id": "-8EBGUxsQxQ7"
   },
   "outputs": [],
   "source": [
    "pred_test_data= RF.predict(test_data_final)\n",
    "pred_test_data[pred_test_data<0] = 0\n",
    "submit = pd.DataFrame({\n",
    "    'id' :test_data['id'],\n",
    "    'num_orders' : pred_test_data\n",
    "})"
   ]
  },
  {
   "cell_type": "code",
   "execution_count": 41,
   "metadata": {
    "colab": {
     "base_uri": "https://localhost:8080/",
     "height": 221
    },
    "colab_type": "code",
    "executionInfo": {
     "elapsed": 2142,
     "status": "ok",
     "timestamp": 1592045460900,
     "user": {
      "displayName": "amit",
      "photoUrl": "",
      "userId": "12797285159599571225"
     },
     "user_tz": -345
    },
    "id": "VkF0P3sNQxU9",
    "outputId": "acd0dc31-94e9-40e8-8f09-319324d015d3"
   },
   "outputs": [
    {
     "data": {
      "text/html": [
       "<div>\n",
       "<style scoped>\n",
       "    .dataframe tbody tr th:only-of-type {\n",
       "        vertical-align: middle;\n",
       "    }\n",
       "\n",
       "    .dataframe tbody tr th {\n",
       "        vertical-align: top;\n",
       "    }\n",
       "\n",
       "    .dataframe thead th {\n",
       "        text-align: right;\n",
       "    }\n",
       "</style>\n",
       "<table border=\"1\" class=\"dataframe\">\n",
       "  <thead>\n",
       "    <tr style=\"text-align: right;\">\n",
       "      <th></th>\n",
       "      <th>id</th>\n",
       "      <th>num_orders</th>\n",
       "    </tr>\n",
       "  </thead>\n",
       "  <tbody>\n",
       "    <tr>\n",
       "      <th>0</th>\n",
       "      <td>1028232</td>\n",
       "      <td>729.665147</td>\n",
       "    </tr>\n",
       "    <tr>\n",
       "      <th>1</th>\n",
       "      <td>1262649</td>\n",
       "      <td>729.665147</td>\n",
       "    </tr>\n",
       "    <tr>\n",
       "      <th>2</th>\n",
       "      <td>1453211</td>\n",
       "      <td>729.665147</td>\n",
       "    </tr>\n",
       "    <tr>\n",
       "      <th>3</th>\n",
       "      <td>1262599</td>\n",
       "      <td>729.665147</td>\n",
       "    </tr>\n",
       "    <tr>\n",
       "      <th>4</th>\n",
       "      <td>1495848</td>\n",
       "      <td>729.665147</td>\n",
       "    </tr>\n",
       "  </tbody>\n",
       "</table>\n",
       "</div>"
      ],
      "text/plain": [
       "        id  num_orders\n",
       "0  1028232  729.665147\n",
       "1  1262649  729.665147\n",
       "2  1453211  729.665147\n",
       "3  1262599  729.665147\n",
       "4  1495848  729.665147"
      ]
     },
     "execution_count": 41,
     "metadata": {},
     "output_type": "execute_result"
    }
   ],
   "source": [
    "submit.head()"
   ]
  },
  {
   "cell_type": "code",
   "execution_count": 42,
   "metadata": {
    "colab": {},
    "colab_type": "code",
    "id": "9p_Lz1ExQxYH"
   },
   "outputs": [],
   "source": [
    "submit.to_csv(\"output/submission_RFR.csv\", index=False)"
   ]
  },
  {
   "cell_type": "code",
   "execution_count": 43,
   "metadata": {
    "colab": {},
    "colab_type": "code",
    "id": "P9KLryVRQxbj"
   },
   "outputs": [],
   "source": [
    "pred_test_data= DTR.predict(test_data_final)\n",
    "pred_test_data[pred_test_data<0] = 0\n",
    "submitDTR = pd.DataFrame({\n",
    "    'id' :test_data['id'],\n",
    "    'num_orders' : pred_test_data\n",
    "})\n",
    "submitDTR.head()\n",
    "submitDTR.to_csv(\"output/submission_DTR.csv\", index=False)"
   ]
  },
  {
   "cell_type": "code",
   "execution_count": 44,
   "metadata": {
    "colab": {},
    "colab_type": "code",
    "id": "zLM6Bf8rQxfX"
   },
   "outputs": [
    {
     "ename": "ValueError",
     "evalue": "feature_names mismatch: ['f0', 'f1', 'f2', 'f3', 'f4', 'f5', 'f6'] ['emailer_for_promotion', 'homepage_featured', 'city_code', 'region_code', 'op_area', 'category', 'cuisine']\nexpected f0, f3, f6, f2, f4, f5, f1 in input data\ntraining data did not have the following fields: category, cuisine, emailer_for_promotion, city_code, homepage_featured, region_code, op_area",
     "output_type": "error",
     "traceback": [
      "\u001b[1;31m---------------------------------------------------------------------------\u001b[0m",
      "\u001b[1;31mValueError\u001b[0m                                Traceback (most recent call last)",
      "\u001b[1;32m<ipython-input-44-a53de2b13e40>\u001b[0m in \u001b[0;36m<module>\u001b[1;34m\u001b[0m\n\u001b[1;32m----> 1\u001b[1;33m \u001b[0mpred_test_data\u001b[0m\u001b[1;33m=\u001b[0m \u001b[0mXG\u001b[0m\u001b[1;33m.\u001b[0m\u001b[0mpredict\u001b[0m\u001b[1;33m(\u001b[0m\u001b[0mtest_data_final\u001b[0m\u001b[1;33m)\u001b[0m\u001b[1;33m\u001b[0m\u001b[0m\n\u001b[0m\u001b[0;32m      2\u001b[0m \u001b[0mpred_test_data\u001b[0m\u001b[1;33m[\u001b[0m\u001b[0mpred_test_data\u001b[0m\u001b[1;33m<\u001b[0m\u001b[1;36m0\u001b[0m\u001b[1;33m]\u001b[0m \u001b[1;33m=\u001b[0m \u001b[1;36m0\u001b[0m\u001b[1;33m\u001b[0m\u001b[0m\n\u001b[0;32m      3\u001b[0m submitXG = pd.DataFrame({\n\u001b[0;32m      4\u001b[0m     \u001b[1;34m'id'\u001b[0m \u001b[1;33m:\u001b[0m\u001b[0mtest_data\u001b[0m\u001b[1;33m[\u001b[0m\u001b[1;34m'id'\u001b[0m\u001b[1;33m]\u001b[0m\u001b[1;33m,\u001b[0m\u001b[1;33m\u001b[0m\u001b[0m\n\u001b[0;32m      5\u001b[0m     \u001b[1;34m'num_orders'\u001b[0m \u001b[1;33m:\u001b[0m \u001b[0mpred_test_data\u001b[0m\u001b[1;33m\u001b[0m\u001b[0m\n",
      "\u001b[1;32m~\\AppData\\Roaming\\Python\\Python36\\site-packages\\xgboost\\sklearn.py\u001b[0m in \u001b[0;36mpredict\u001b[1;34m(self, data, output_margin, ntree_limit, validate_features, base_margin)\u001b[0m\n\u001b[0;32m    602\u001b[0m                                           \u001b[0moutput_margin\u001b[0m\u001b[1;33m=\u001b[0m\u001b[0moutput_margin\u001b[0m\u001b[1;33m,\u001b[0m\u001b[1;33m\u001b[0m\u001b[0m\n\u001b[0;32m    603\u001b[0m                                           \u001b[0mntree_limit\u001b[0m\u001b[1;33m=\u001b[0m\u001b[0mntree_limit\u001b[0m\u001b[1;33m,\u001b[0m\u001b[1;33m\u001b[0m\u001b[0m\n\u001b[1;32m--> 604\u001b[1;33m                                           validate_features=validate_features)\n\u001b[0m\u001b[0;32m    605\u001b[0m \u001b[1;33m\u001b[0m\u001b[0m\n\u001b[0;32m    606\u001b[0m     \u001b[1;32mdef\u001b[0m \u001b[0mapply\u001b[0m\u001b[1;33m(\u001b[0m\u001b[0mself\u001b[0m\u001b[1;33m,\u001b[0m \u001b[0mX\u001b[0m\u001b[1;33m,\u001b[0m \u001b[0mntree_limit\u001b[0m\u001b[1;33m=\u001b[0m\u001b[1;36m0\u001b[0m\u001b[1;33m)\u001b[0m\u001b[1;33m:\u001b[0m\u001b[1;33m\u001b[0m\u001b[0m\n",
      "\u001b[1;32m~\\AppData\\Roaming\\Python\\Python36\\site-packages\\xgboost\\core.py\u001b[0m in \u001b[0;36mpredict\u001b[1;34m(self, data, output_margin, ntree_limit, pred_leaf, pred_contribs, approx_contribs, pred_interactions, validate_features, training)\u001b[0m\n\u001b[0;32m   1362\u001b[0m \u001b[1;33m\u001b[0m\u001b[0m\n\u001b[0;32m   1363\u001b[0m         \u001b[1;32mif\u001b[0m \u001b[0mvalidate_features\u001b[0m\u001b[1;33m:\u001b[0m\u001b[1;33m\u001b[0m\u001b[0m\n\u001b[1;32m-> 1364\u001b[1;33m             \u001b[0mself\u001b[0m\u001b[1;33m.\u001b[0m\u001b[0m_validate_features\u001b[0m\u001b[1;33m(\u001b[0m\u001b[0mdata\u001b[0m\u001b[1;33m)\u001b[0m\u001b[1;33m\u001b[0m\u001b[0m\n\u001b[0m\u001b[0;32m   1365\u001b[0m \u001b[1;33m\u001b[0m\u001b[0m\n\u001b[0;32m   1366\u001b[0m         \u001b[0mlength\u001b[0m \u001b[1;33m=\u001b[0m \u001b[0mc_bst_ulong\u001b[0m\u001b[1;33m(\u001b[0m\u001b[1;33m)\u001b[0m\u001b[1;33m\u001b[0m\u001b[0m\n",
      "\u001b[1;32m~\\AppData\\Roaming\\Python\\Python36\\site-packages\\xgboost\\core.py\u001b[0m in \u001b[0;36m_validate_features\u001b[1;34m(self, data)\u001b[0m\n\u001b[0;32m   1934\u001b[0m \u001b[1;33m\u001b[0m\u001b[0m\n\u001b[0;32m   1935\u001b[0m                 raise ValueError(msg.format(self.feature_names,\n\u001b[1;32m-> 1936\u001b[1;33m                                             data.feature_names))\n\u001b[0m\u001b[0;32m   1937\u001b[0m \u001b[1;33m\u001b[0m\u001b[0m\n\u001b[0;32m   1938\u001b[0m     def get_split_value_histogram(self, feature, fmap='', bins=None,\n",
      "\u001b[1;31mValueError\u001b[0m: feature_names mismatch: ['f0', 'f1', 'f2', 'f3', 'f4', 'f5', 'f6'] ['emailer_for_promotion', 'homepage_featured', 'city_code', 'region_code', 'op_area', 'category', 'cuisine']\nexpected f0, f3, f6, f2, f4, f5, f1 in input data\ntraining data did not have the following fields: category, cuisine, emailer_for_promotion, city_code, homepage_featured, region_code, op_area"
     ]
    }
   ],
   "source": [
    "pred_test_data= XG.predict(test_data_final)\n",
    "pred_test_data[pred_test_data<0] = 0\n",
    "submitXG = pd.DataFrame({\n",
    "    'id' :test_data['id'],\n",
    "    'num_orders' : pred_test_data\n",
    "})\n",
    "submitXG.head()\n",
    "submitXG.to_csv(\"output/submission_XG.csv\", index=False)"
   ]
  },
  {
   "cell_type": "code",
   "execution_count": 45,
   "metadata": {
    "colab": {},
    "colab_type": "code",
    "id": "fclhinAEQxjv"
   },
   "outputs": [],
   "source": [
    "pred_test_data= GB.predict(test_data_final)\n",
    "pred_test_data[pred_test_data<0] = 0\n",
    "submitGB = pd.DataFrame({\n",
    "    'id' :test_data['id'],\n",
    "    'num_orders' : pred_test_data\n",
    "})\n",
    "submitGB.head()\n",
    "submitGB.to_csv(\"output/submission_GB.csv\", index=False)"
   ]
  },
  {
   "cell_type": "code",
   "execution_count": null,
   "metadata": {
    "colab": {},
    "colab_type": "code",
    "id": "DkXYGcKTQxmi"
   },
   "outputs": [],
   "source": []
  },
  {
   "cell_type": "code",
   "execution_count": null,
   "metadata": {
    "colab": {},
    "colab_type": "code",
    "id": "tOzl1YGDQxqO"
   },
   "outputs": [],
   "source": []
  },
  {
   "cell_type": "code",
   "execution_count": null,
   "metadata": {
    "colab": {},
    "colab_type": "code",
    "id": "kmGz_jg0Jee1"
   },
   "outputs": [],
   "source": []
  }
 ],
 "metadata": {
  "accelerator": "GPU",
  "colab": {
   "authorship_tag": "ABX9TyMq+Th7Ram1pfhCKcorM/np",
   "collapsed_sections": [],
   "mount_file_id": "14FU2vwsy9P61_WJckklSPseXzjZJ0TWh",
   "name": "Food Demand forecast.ipynb",
   "provenance": []
  },
  "kernelspec": {
   "display_name": "Python 3",
   "language": "python",
   "name": "python3"
  },
  "language_info": {
   "codemirror_mode": {
    "name": "ipython",
    "version": 3
   },
   "file_extension": ".py",
   "mimetype": "text/x-python",
   "name": "python",
   "nbconvert_exporter": "python",
   "pygments_lexer": "ipython3",
   "version": "3.6.6"
  }
 },
 "nbformat": 4,
 "nbformat_minor": 1
}
